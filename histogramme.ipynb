{
 "cells": [
  {
   "cell_type": "markdown",
   "id": "4df46aed",
   "metadata": {},
   "source": [
    "# Import des packages"
   ]
  },
  {
   "cell_type": "code",
   "execution_count": 15,
   "id": "fc873c30",
   "metadata": {},
   "outputs": [],
   "source": [
    "import os\n",
    "from pathlib import Path\n",
    "import pandas as pd\n",
    "import torch\n",
    "import numpy as np\n",
    "from torch.utils.data import random_split\n",
    "from torch_geometric.data import Data, Dataset, DataLoader\n",
    "from torch_geometric.nn import GCNConv, global_mean_pool\n",
    "import torch.nn.functional as F\n",
    "import matplotlib.pyplot as plt\n",
    "import networkx as nx\n",
    "from torch_geometric.utils import to_networkx\n",
    "from sklearn.linear_model import LinearRegression\n",
    "from sklearn.model_selection import train_test_split\n",
    "from sklearn.metrics import mean_squared_error"
   ]
  },
  {
   "cell_type": "markdown",
   "id": "bc204c81",
   "metadata": {},
   "source": [
    "# Récupération du dataset sous forme de graphes"
   ]
  },
  {
   "cell_type": "code",
   "execution_count": 17,
   "id": "f44cafe1",
   "metadata": {},
   "outputs": [],
   "source": [
    "DATA_ROOT = Path(\"data\")\n",
    "XYZ_DIR = DATA_ROOT / \"atoms\" / \"train\"\n",
    "ENERGY_CSV = DATA_ROOT / \"energies\" / \"train.csv\"\n",
    "\n",
    "ATOM_TYPES = ['H', 'C', 'N', 'O', 'F', 'S', 'Cl']\n",
    "\n",
    "# Valence maximale par type d’atome\n",
    "VALENCE_MAX = {\n",
    "    'H': 1,\n",
    "    'C': 4,\n",
    "    'N': 3,\n",
    "    'O': 2,\n",
    "    'F': 1,\n",
    "    'S': 6,\n",
    "    'Cl': 1\n",
    "}\n",
    "\n",
    "\n",
    "def atom_to_int(symbol):\n",
    "    return ATOM_TYPES.index(symbol)\n",
    "\n",
    "def z_to_one_hot(z, num_classes=7):\n",
    "    return F.one_hot(z, num_classes=num_classes).float()\n",
    "\n",
    "\n",
    "def build_edge_index(pos, z, cutoff=1.5):\n",
    "    dist = torch.cdist(pos, pos)\n",
    "    mask = (dist < cutoff) & (dist > 0)\n",
    "    row, col = torch.where(mask)\n",
    "    \n",
    "    edges = list(zip(row.tolist(), col.tolist()))\n",
    "    \n",
    "    # Compter les connexions par atome\n",
    "    connections = {i: [] for i in range(len(z))}\n",
    "    edge_scores = {}\n",
    "\n",
    "    for i, j in edges:\n",
    "        d = dist[i, j].item()\n",
    "        connections[i].append((j, d))\n",
    "        edge_scores[(i, j)] = d\n",
    "\n",
    "    final_edges = []\n",
    "    for i in connections:\n",
    "        # Limiter au nombre de liaisons maximum\n",
    "        symbol = int_to_atom(z[i].item())\n",
    "        max_conn = VALENCE_MAX[symbol]\n",
    "        \n",
    "        # Trier les voisins par distance croissante\n",
    "        neighbors = sorted(connections[i], key=lambda x: x[1])\n",
    "        selected = neighbors[:max_conn]\n",
    "\n",
    "        for j, _ in selected:\n",
    "            final_edges.append((i, j))\n",
    "\n",
    "    # Éviter les doublons (i,j) et (j,i)\n",
    "    final_edges = list(set(final_edges))\n",
    "    row, col = zip(*final_edges)\n",
    "    edge_index = torch.tensor([row, col], dtype=torch.long)\n",
    "    return edge_index\n",
    "\n",
    "\n",
    "def int_to_atom(index):\n",
    "    return ATOM_TYPES[index]"
   ]
  },
  {
   "cell_type": "code",
   "execution_count": 18,
   "id": "5a517d48",
   "metadata": {},
   "outputs": [],
   "source": [
    "class QM7XDataset(Dataset):\n",
    "    def __init__(self, xyz_dir, energy_csv, cutoff=1.8):\n",
    "        super().__init__()\n",
    "        self.xyz_dir = xyz_dir\n",
    "        self.cutoff = cutoff\n",
    "        self.energy_df = pd.read_csv(energy_csv, index_col='id')\n",
    "\n",
    "    def __len__(self):\n",
    "        return len(self.energy_df)\n",
    "\n",
    "    def _load_xyz(self, file_path):\n",
    "        with open(file_path, 'r') as f:\n",
    "            lines = f.readlines()[2:]\n",
    "        atoms = []\n",
    "        positions = []\n",
    "        for line in lines:\n",
    "            parts = line.split()\n",
    "            atoms.append(atom_to_int(parts[0]))\n",
    "            positions.append([float(x) for x in parts[1:4]])\n",
    "        z = torch.tensor(atoms, dtype=torch.long)\n",
    "        pos = torch.tensor(positions, dtype=torch.float)\n",
    "        return z, pos\n",
    "\n",
    "    def __getitem__(self, idx):\n",
    "        mol_id = idx + 1\n",
    "        file_path = self.xyz_dir / f\"id_{mol_id}.xyz\"\n",
    "        z, pos = self._load_xyz(file_path)\n",
    "        x = z_to_one_hot(z)\n",
    "        edge_index = build_edge_index(pos, z, self.cutoff)\n",
    "\n",
    "        energy = torch.tensor([self.energy_df.loc[mol_id, 'energy']], dtype=torch.float)\n",
    "        data = Data(x=x, edge_index=edge_index, pos=pos, y=energy)\n",
    "        return data\n"
   ]
  },
  {
   "cell_type": "code",
   "execution_count": 19,
   "id": "c8f95bd5",
   "metadata": {},
   "outputs": [],
   "source": [
    "dataset = QM7XDataset(XYZ_DIR, ENERGY_CSV)"
   ]
  },
  {
   "cell_type": "markdown",
   "id": "158e48c4",
   "metadata": {},
   "source": [
    "# Construction des histogrammes"
   ]
  },
  {
   "cell_type": "code",
   "execution_count": 13,
   "id": "3db088b0",
   "metadata": {},
   "outputs": [
    {
     "name": "stdout",
     "output_type": "stream",
     "text": [
      "Exemple de vecteur de caractéristiques pour molécule 0 : [13  6  1  0  0  0  0]\n",
      "Énergie cible : -90.10787963867188\n"
     ]
    }
   ],
   "source": [
    "num_molecules = len(dataset)\n",
    "num_atom_types = len(ATOM_TYPES)\n",
    "\n",
    "X = np.zeros((num_molecules, num_atom_types), dtype=int)\n",
    "y = np.zeros(num_molecules)\n",
    "\n",
    "for i in range(num_molecules):\n",
    "    data = dataset[i]\n",
    "    atom_types = data.x.argmax(dim=1).tolist()\n",
    "    counts = np.bincount(atom_types, minlength=num_atom_types)\n",
    "    X[i, :] = counts\n",
    "    y[i] = data.y.item()\n",
    "\n",
    "print(\"Exemple de vecteur de caractéristiques pour molécule 0 :\", X[0])\n",
    "print(\"Énergie cible :\", y[0])\n"
   ]
  },
  {
   "cell_type": "markdown",
   "id": "0ef6c6e5",
   "metadata": {},
   "source": [
    "# Prédiction de l'energie"
   ]
  },
  {
   "cell_type": "code",
   "execution_count": 14,
   "id": "bf570e7d",
   "metadata": {},
   "outputs": [
    {
     "name": "stdout",
     "output_type": "stream",
     "text": [
      "RMSE sur test: 0.5552\n",
      "Scores de validation croisée : [-0.30327407 -0.29145346 -0.30686539 -0.30227561 -0.31632483]\n"
     ]
    }
   ],
   "source": [
    "X_train, X_test, y_train, y_test = train_test_split(X, y, test_size=0.2, random_state=42)\n",
    "\n",
    "\n",
    "model = LinearRegression()\n",
    "model.fit(X_train, y_train)\n",
    "\n",
    "y_pred = model.predict(X_test)\n",
    "mse = mean_squared_error(y_test, y_pred)\n",
    "\n",
    "print(f\"RMSE sur test: {mse**0.5:.4f}\")\n",
    "\n",
    "# Cross-validation\n",
    "from sklearn.model_selection import cross_val_score\n",
    "scores = cross_val_score(model, X, y, cv=5, scoring='neg_mean_squared_error')\n",
    "print(f\"Scores de validation croisée : {scores}\")\n"
   ]
  }
 ],
 "metadata": {
  "kernelspec": {
   "display_name": "dl",
   "language": "python",
   "name": "python3"
  },
  "language_info": {
   "codemirror_mode": {
    "name": "ipython",
    "version": 3
   },
   "file_extension": ".py",
   "mimetype": "text/x-python",
   "name": "python",
   "nbconvert_exporter": "python",
   "pygments_lexer": "ipython3",
   "version": "3.10.17"
  }
 },
 "nbformat": 4,
 "nbformat_minor": 5
}
