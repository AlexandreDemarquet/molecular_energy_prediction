{
 "cells": [
  {
   "cell_type": "code",
   "execution_count": 1,
   "id": "d953092f",
   "metadata": {},
   "outputs": [
    {
     "name": "stderr",
     "output_type": "stream",
     "text": [
      "/home/n7student/.local/lib/python3.10/site-packages/torch/utils/_pytree.py:185: FutureWarning: optree is installed but the version is too old to support PyTorch Dynamo in C++ pytree. C++ pytree support is disabled. Please consider upgrading optree using `python3 -m pip install --upgrade 'optree>=0.13.0'`.\n",
      "  warnings.warn(\n",
      "/home/n7student/.local/lib/python3.10/site-packages/torch_geometric/typing.py:72: UserWarning: An issue occurred while importing 'torch-scatter'. Disabling its usage. Stacktrace: /home/n7student/.local/lib/python3.10/site-packages/torch_scatter/_version_cpu.so: undefined symbol: _ZN3c1017RegisterOperatorsD1Ev\n",
      "  warnings.warn(f\"An issue occurred while importing 'torch-scatter'. \"\n"
     ]
    }
   ],
   "source": [
    "import numpy as np\n",
    "from dataset.QM7XDataset import QM7XEmbedDataset\n",
    "from pathlib import Path\n",
    "import torch\n",
    "import pickle\n",
    "from sklearn.model_selection import train_test_split\n",
    "import torch.nn as nn\n",
    "import torch.optim as optim\n",
    "from torch.utils.data import TensorDataset, DataLoader\n",
    "from sklearn.model_selection import train_test_split\n",
    "from sklearn.metrics import mean_squared_error, r2_score, mean_absolute_error\n",
    "import numpy as np\n",
    "import matplotlib.pyplot as plt\n"
   ]
  },
  {
   "cell_type": "markdown",
   "id": "9c1598bb",
   "metadata": {},
   "source": [
    "## Les données scattering et/ou contrastive"
   ]
  },
  {
   "cell_type": "code",
   "execution_count": 2,
   "id": "fb4b203d",
   "metadata": {},
   "outputs": [],
   "source": [
    "from get_X_y_train_test import get_X_y_train_test\n",
    "X_train, X_test, y_train, y_test = get_X_y_train_test(avec_coef_contrastive=True)"
   ]
  },
  {
   "cell_type": "markdown",
   "id": "3b14a9b8",
   "metadata": {},
   "source": [
    "## Regression multi Lin"
   ]
  },
  {
   "cell_type": "code",
   "execution_count": null,
   "id": "4c979556",
   "metadata": {},
   "outputs": [],
   "source": [
    "from models.regression_multi_lin import RegressionModel"
   ]
  },
  {
   "cell_type": "code",
   "execution_count": 7,
   "id": "1965492f",
   "metadata": {},
   "outputs": [
    {
     "name": "stdout",
     "output_type": "stream",
     "text": [
      "X_train shape: torch.Size([5931, 706]), y_train shape: torch.Size([5931, 1])\n",
      "X_test shape: torch.Size([660, 706]), y_test shape: torch.Size([660, 1])\n",
      "Epoch 1/20, Loss: 4268.9087\n",
      "Epoch 10/20, Loss: 4.3587\n",
      "Epoch 20/20, Loss: 2.6885\n"
     ]
    },
    {
     "data": {
      "image/png": "[encoded data removed]",
      "text/plain": [
       "<Figure size 432x288 with 1 Axes>"
      ]
     },
     "metadata": {
      "needs_background": "light"
     },
     "output_type": "display_data"
    },
    {
     "name": "stdout",
     "output_type": "stream",
     "text": [
      "PyTorch RMSE: 1.9219, R2: 0.9755, MAE: 0.7483\n"
     ]
    }
   ],
   "source": [
    "\n",
    "\n",
    "# Données X, y: numpy arrays\n",
    "# Exemple: X = np.array(...), y = np.array(...)\n",
    "\n",
    "# Paramètres\n",
    "batch_size = 32\n",
    "lr = 1e-3\n",
    "epochs = 20\n",
    "\n",
    "\n",
    "\n",
    "# Conversion en tenseurs PyTorch\n",
    "torch.manual_seed(42)\n",
    "X_train_t = torch.from_numpy(X_train).float()\n",
    "y_train_t = torch.from_numpy(y_train).float().unsqueeze(1)\n",
    "X_test_t = torch.from_numpy(X_test).float()\n",
    "y_test_t = torch.from_numpy(y_test).float().unsqueeze(1)\n",
    "\n",
    "print(f\"X_train shape: {X_train_t.shape}, y_train shape: {y_train_t.shape}\")\n",
    "print(f\"X_test shape: {X_test_t.shape}, y_test shape: {y_test_t.shape}\")\n",
    "# DataLoaders\n",
    "dataset_train = TensorDataset(X_train_t, y_train_t)\n",
    "dataset_test = TensorDataset(X_test_t, y_test_t)\n",
    "loader_train = DataLoader(dataset_train, batch_size=batch_size, shuffle=True)\n",
    "loader_test = DataLoader(dataset_test, batch_size=batch_size)\n",
    "\n",
    "# Initialisation\n",
    "device = torch.device('cuda' if torch.cuda.is_available() else 'cpu')\n",
    "input_dim = X_train.shape[1]\n",
    "q = 300\n",
    "k = 3\n",
    "model = RegressionModel(input_dim, q, k).to(device)\n",
    "optimizer = optim.Adam(model.parameters(), lr=lr)\n",
    "criterion = nn.MSELoss()\n",
    "\n",
    "\n",
    "# Entraînement avec suivi de la loss\n",
    "history = []\n",
    "for epoch in range(1, epochs+1):\n",
    "    model.train()\n",
    "    train_losses = []\n",
    "    for xb, yb in loader_train:\n",
    "        xb, yb = xb.to(device), yb.to(device)\n",
    "        optimizer.zero_grad()\n",
    "        preds = model(xb)\n",
    "        loss = criterion(preds, yb)\n",
    "        loss.backward()\n",
    "        optimizer.step()\n",
    "        train_losses.append(loss.item())\n",
    "    avg_loss = np.mean(train_losses)\n",
    "    history.append(avg_loss)\n",
    "    if epoch % 10 == 0 or epoch == 1:\n",
    "        print(f\"Epoch {epoch}/{epochs}, Loss: {avg_loss:.4f}\")\n",
    "\n",
    "# Plot de la loss d'entraînement\n",
    "plt.figure()\n",
    "plt.plot(range(1, epochs+1), history)\n",
    "plt.xlabel('Epoch')\n",
    "plt.ylabel('Loss MSE')\n",
    "plt.title(\"Courbe de perte d'entraînement\")\n",
    "plt.show()\n",
    "\n",
    "# Évaluation sur test\n",
    "model.eval()\n",
    "with torch.no_grad():\n",
    "    preds_test = model(X_test_t.to(device)).cpu().squeeze().numpy()\n",
    "rmse = mean_squared_error(y_test, preds_test)**0.5\n",
    "mae = mean_absolute_error(y_test, preds_test)\n",
    "r2 = r2_score(y_test, preds_test)\n",
    "print(f\"PyTorch RMSE: {rmse:.4f}, R2: {r2:.4f}, MAE: {mae:.4f}\")\n"
   ]
  },
  {
   "cell_type": "markdown",
   "id": "641f9801",
   "metadata": {},
   "source": [
    "## Regressor Stacking"
   ]
  },
  {
   "cell_type": "code",
   "execution_count": 8,
   "id": "01077298",
   "metadata": {},
   "outputs": [
    {
     "name": "stdout",
     "output_type": "stream",
     "text": [
      "[LightGBM] [Info] Auto-choosing col-wise multi-threading, the overhead of testing was 0.018418 seconds.\n",
      "You can set `force_col_wise=true` to remove the overhead.\n",
      "[LightGBM] [Info] Total Bins 158801\n",
      "[LightGBM] [Info] Number of data points in the train set: 5931, number of used features: 667\n",
      "[LightGBM] [Info] Start training from score -77.923448\n",
      "[LightGBM] [Warning] No further splits with positive gain, best gain: -inf\n",
      "[LightGBM] [Warning] No further splits with positive gain, best gain: -inf\n",
      "[LightGBM] [Info] Auto-choosing col-wise multi-threading, the overhead of testing was 0.016404 seconds.\n",
      "You can set `force_col_wise=true` to remove the overhead.\n",
      "[LightGBM] [Info] Total Bins 158801\n",
      "[LightGBM] [Info] Number of data points in the train set: 5931, number of used features: 667\n",
      "[LightGBM] [Info] Start training from score -77.923448\n",
      "[LightGBM] [Warning] No further splits with positive gain, best gain: -inf\n",
      "[LightGBM] [Warning] No further splits with positive gain, best gain: -inf\n",
      "[LightGBM] [Info] Auto-choosing col-wise multi-threading, the overhead of testing was 0.060670 seconds.\n",
      "You can set `force_col_wise=true` to remove the overhead.\n",
      "[LightGBM] [Info] Total Bins 158153\n",
      "[LightGBM] [Info] Number of data points in the train set: 4745, number of used features: 667\n",
      "[LightGBM] [Info] Start training from score -78.041196\n",
      "[LightGBM] [Info] Auto-choosing col-wise multi-threading, the overhead of testing was 0.050183 seconds.\n",
      "You can set `force_col_wise=true` to remove the overhead.\n",
      "[LightGBM] [Info] Total Bins 158341\n",
      "[LightGBM] [Info] Auto-choosing col-wise multi-threading, the overhead of testing was 0.056179 seconds.\n",
      "You can set `force_col_wise=true` to remove the overhead.\n",
      "[LightGBM] [Info] Total Bins 158313\n",
      "[LightGBM] [Info] Auto-choosing col-wise multi-threading, the overhead of testing was 0.062010 seconds.\n",
      "You can set `force_col_wise=true` to remove the overhead.\n",
      "[LightGBM] [Warning] No further splits with positive gain, best gain: -inf\n",
      "[LightGBM] [Info] Auto-choosing col-wise multi-threading, the overhead of testing was 0.066829 seconds.\n",
      "You can set `force_col_wise=true` to remove the overhead.\n",
      "[LightGBM] [Info] Number of data points in the train set: 4745, number of used features: 667\n",
      "[LightGBM] [Info] Number of data points in the train set: 4745, number of used features: 667\n",
      "[LightGBM] [Info] Total Bins 158296\n",
      "[LightGBM] [Info] Start training from score -77.761363\n",
      "[LightGBM] [Info] Start training from score -77.939523\n",
      "[LightGBM] [Info] Total Bins 158278\n",
      "[LightGBM] [Info] Number of data points in the train set: 4744, number of used features: 667\n",
      "[LightGBM] [Info] Start training from score -77.979922\n",
      "[LightGBM] [Info] Number of data points in the train set: 4745, number of used features: 667\n",
      "[LightGBM] [Info] Start training from score -77.895247\n",
      "[LightGBM] [Warning] No further splits with positive gain, best gain: -inf\n",
      "[LightGBM] [Warning] No further splits with positive gain, best gain: -inf\n",
      "[LightGBM] [Warning] No further splits with positive gain, best gain: -inf\n",
      "[LightGBM] [Warning] No further splits with positive gain, best gain: -inf\n",
      "[LightGBM] [Warning] No further splits with positive gain, best gain: -inf\n",
      "[LightGBM] [Warning] No further splits with positive gain, best gain: -inf\n",
      "[LightGBM] [Warning] No further splits with positive gain, best gain: -inf\n",
      "[LightGBM] [Warning] No further splits with positive gain, best gain: -inf\n",
      "[LightGBM] [Warning] No further splits with positive gain, best gain: -inf\n"
     ]
    },
    {
     "name": "stderr",
     "output_type": "stream",
     "text": [
      "/home/n7student/.local/lib/python3.10/site-packages/sklearn/utils/validation.py:2739: UserWarning: X does not have valid feature names, but LGBMRegressor was fitted with feature names\n",
      "  warnings.warn(\n",
      "/home/n7student/.local/lib/python3.10/site-packages/sklearn/utils/validation.py:2739: UserWarning: X does not have valid feature names, but LGBMRegressor was fitted with feature names\n",
      "  warnings.warn(\n",
      "/home/n7student/.local/lib/python3.10/site-packages/sklearn/utils/validation.py:2739: UserWarning: X does not have valid feature names, but LGBMRegressor was fitted with feature names\n",
      "  warnings.warn(\n",
      "/home/n7student/.local/lib/python3.10/site-packages/sklearn/utils/validation.py:2739: UserWarning: X does not have valid feature names, but LGBMRegressor was fitted with feature names\n",
      "  warnings.warn(\n",
      "/home/n7student/.local/lib/python3.10/site-packages/sklearn/utils/validation.py:2739: UserWarning: X does not have valid feature names, but LGBMRegressor was fitted with feature names\n",
      "  warnings.warn(\n"
     ]
    },
    {
     "name": "stdout",
     "output_type": "stream",
     "text": [
      "Stacking RMSE: 0.3614\n",
      "Stacking R²:   0.9991\n",
      "Stacking MAE:  0.1736\n"
     ]
    },
    {
     "name": "stderr",
     "output_type": "stream",
     "text": [
      "/home/n7student/.local/lib/python3.10/site-packages/sklearn/utils/validation.py:2739: UserWarning: X does not have valid feature names, but LGBMRegressor was fitted with feature names\n",
      "  warnings.warn(\n"
     ]
    }
   ],
   "source": [
    "from xgboost import XGBRegressor\n",
    "from lightgbm import LGBMRegressor\n",
    "from sklearn.ensemble import RandomForestRegressor, StackingRegressor\n",
    "from sklearn.linear_model import Ridge\n",
    "from sklearn.metrics import mean_squared_error, r2_score, mean_absolute_error\n",
    "\n",
    "# 1) Définir les estimateurs sklearn-compatibles\n",
    "\n",
    "# XGBoost\n",
    "xgb_sk = XGBRegressor(\n",
    "    objective='reg:squarederror',\n",
    "    eval_metric='rmse',\n",
    "    learning_rate=0.1,\n",
    "    max_depth=8,\n",
    "    reg_alpha=0.1,\n",
    "    reg_lambda=10.0,\n",
    "    n_estimators=2,\n",
    "    random_state=42,\n",
    "    verbosity=0\n",
    ")\n",
    "\n",
    "# LightGBM\n",
    "lgb_sk = LGBMRegressor(\n",
    "    objective='regression',\n",
    "    metric='rmse',\n",
    "    learning_rate=0.1,\n",
    "    num_leaves=31,\n",
    "    reg_alpha=0.1,\n",
    "    reg_lambda=10.0,\n",
    "    n_estimators=2,\n",
    "    random_state=42\n",
    ")\n",
    "\n",
    "# Random Forest\n",
    "rf = RandomForestRegressor(\n",
    "    n_estimators=2,\n",
    "    max_depth=20,\n",
    "    random_state=42,\n",
    "    n_jobs=-1\n",
    ")\n",
    "\n",
    "# 2) Entraîner chaque modèle sur vos données\n",
    "xgb_sk.fit(\n",
    "    X_train, y_train,\n",
    "    eval_set=[(X_test, y_test)],\n",
    "    verbose=False\n",
    ")\n",
    "lgb_sk.fit(\n",
    "    X_train, y_train,\n",
    "    eval_set=[(X_test, y_test)],\n",
    ")\n",
    "rf.fit(X_train, y_train)\n",
    "\n",
    "# 3) Créer et entraîner le stacking\n",
    "estimators = [\n",
    "    ('xgb', xgb_sk),\n",
    "    ('lgb', lgb_sk),\n",
    "    ('rf', rf)\n",
    "]\n",
    "stack = StackingRegressor(\n",
    "    estimators=estimators,\n",
    "    final_estimator=Ridge(alpha=1.0),\n",
    "    cv=5,\n",
    "    n_jobs=-1,\n",
    "    passthrough=False\n",
    ")\n",
    "stack.fit(X_train, y_train)\n",
    "\n",
    "# 4) Évaluer\n",
    "y_pred = stack.predict(X_test)\n",
    "print(f\"Stacking RMSE: {mean_squared_error(y_test, y_pred)**0.5:.4f}\")\n",
    "print(f\"Stacking R²:   {r2_score(y_test, y_pred):.4f}\")\n",
    "print(f\"Stacking MAE:  {mean_absolute_error(y_test, y_pred):.4f}\")\n"
   ]
  }
 ],
 "metadata": {
  "kernelspec": {
   "display_name": "Python 3",
   "language": "python",
   "name": "python3"
  },
  "language_info": {
   "codemirror_mode": {
    "name": "ipython",
    "version": 3
   },
   "file_extension": ".py",
   "mimetype": "text/x-python",
   "name": "python",
   "nbconvert_exporter": "python",
   "pygments_lexer": "ipython3",
   "version": "3.10.12"
  }
 },
 "nbformat": 4,
 "nbformat_minor": 5
}
